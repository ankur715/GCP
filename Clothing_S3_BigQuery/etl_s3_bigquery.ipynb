{
 "cells": [
  {
   "cell_type": "markdown",
   "id": "9d86d60b",
   "metadata": {},
   "source": [
    "### Read sales-records from S3"
   ]
  },
  {
   "cell_type": "code",
   "execution_count": 1,
   "id": "8420a499",
   "metadata": {},
   "outputs": [],
   "source": [
    "import boto3\n",
    "import pandas as pd\n",
    "\n",
    "s3 = boto3.client('s3')\n",
    "access_key = pd.read_csv(\"../../ankur_accessKeys_s3.csv\")\n",
    "sess = boto3.Session(region_name=\"us-east-2\")\n",
    "client = sess.client('s3',\n",
    "                     aws_access_key_id=access_key[\"Access key ID\"][0],\n",
    "                     aws_secret_access_key=access_key[\"Secret access key\"][0])\n",
    "bucket_name = 'forever21etl'\n",
    "file_name = 'sales-records.csv'"
   ]
  },
  {
   "cell_type": "code",
   "execution_count": 2,
   "id": "d5ae7104",
   "metadata": {},
   "outputs": [],
   "source": [
    "def read_file_from_s3(bucket_name, file_name):\n",
    "    obj = client.get_object(Bucket=bucket_name, Key=file_name)\n",
    "    data = obj['Body'].read().decode('utf-8')\n",
    "    return data\n",
    "data = read_file_from_s3(bucket_name, file_name)"
   ]
  },
  {
   "cell_type": "code",
   "execution_count": 3,
   "id": "9e8732b2",
   "metadata": {},
   "outputs": [],
   "source": [
    "with open(file_name, 'w') as out:\n",
    "    out.write(data)"
   ]
  },
  {
   "cell_type": "code",
   "execution_count": 4,
   "id": "01d1bfd9",
   "metadata": {},
   "outputs": [
    {
     "data": {
      "text/html": [
       "<div>\n",
       "<style scoped>\n",
       "    .dataframe tbody tr th:only-of-type {\n",
       "        vertical-align: middle;\n",
       "    }\n",
       "\n",
       "    .dataframe tbody tr th {\n",
       "        vertical-align: top;\n",
       "    }\n",
       "\n",
       "    .dataframe thead th {\n",
       "        text-align: right;\n",
       "    }\n",
       "</style>\n",
       "<table border=\"1\" class=\"dataframe\">\n",
       "  <thead>\n",
       "    <tr style=\"text-align: right;\">\n",
       "      <th></th>\n",
       "      <th>ID</th>\n",
       "      <th>Region</th>\n",
       "      <th>Country</th>\n",
       "      <th>Item_Type</th>\n",
       "      <th>Sales_Channel</th>\n",
       "      <th>Order_Priority</th>\n",
       "      <th>Order_Date</th>\n",
       "      <th>Order_ID</th>\n",
       "      <th>Ship_Date</th>\n",
       "      <th>Units_Sold</th>\n",
       "      <th>Unit_Price</th>\n",
       "      <th>Unit_Cost</th>\n",
       "      <th>Total_Revenue</th>\n",
       "      <th>Total_Cost</th>\n",
       "      <th>Total_Profit</th>\n",
       "    </tr>\n",
       "  </thead>\n",
       "  <tbody>\n",
       "    <tr>\n",
       "      <th>0</th>\n",
       "      <td>1</td>\n",
       "      <td>Central America and the Caribbean</td>\n",
       "      <td>Antigua and Barbuda</td>\n",
       "      <td>Baby Food</td>\n",
       "      <td>Online</td>\n",
       "      <td>M</td>\n",
       "      <td>12/20/2013</td>\n",
       "      <td>957081544</td>\n",
       "      <td>1/11/2014</td>\n",
       "      <td>552</td>\n",
       "      <td>255.28</td>\n",
       "      <td>159.42</td>\n",
       "      <td>140914.56</td>\n",
       "      <td>87999.84</td>\n",
       "      <td>52914.72</td>\n",
       "    </tr>\n",
       "    <tr>\n",
       "      <th>1</th>\n",
       "      <td>2</td>\n",
       "      <td>Central America and the Caribbean</td>\n",
       "      <td>Panama</td>\n",
       "      <td>Snacks</td>\n",
       "      <td>Offline</td>\n",
       "      <td>C</td>\n",
       "      <td>7/5/2010</td>\n",
       "      <td>301644504</td>\n",
       "      <td>7/26/2010</td>\n",
       "      <td>2167</td>\n",
       "      <td>152.58</td>\n",
       "      <td>97.44</td>\n",
       "      <td>330640.86</td>\n",
       "      <td>211152.48</td>\n",
       "      <td>119488.38</td>\n",
       "    </tr>\n",
       "    <tr>\n",
       "      <th>2</th>\n",
       "      <td>3</td>\n",
       "      <td>Europe</td>\n",
       "      <td>Czech Republic</td>\n",
       "      <td>Beverages</td>\n",
       "      <td>Offline</td>\n",
       "      <td>C</td>\n",
       "      <td>9/12/2011</td>\n",
       "      <td>478051030</td>\n",
       "      <td>9/29/2011</td>\n",
       "      <td>4778</td>\n",
       "      <td>47.45</td>\n",
       "      <td>31.79</td>\n",
       "      <td>226716.10</td>\n",
       "      <td>151892.62</td>\n",
       "      <td>74823.48</td>\n",
       "    </tr>\n",
       "    <tr>\n",
       "      <th>3</th>\n",
       "      <td>4</td>\n",
       "      <td>Asia</td>\n",
       "      <td>North Korea</td>\n",
       "      <td>Cereal</td>\n",
       "      <td>Offline</td>\n",
       "      <td>L</td>\n",
       "      <td>5/13/2010</td>\n",
       "      <td>892599952</td>\n",
       "      <td>6/15/2010</td>\n",
       "      <td>9016</td>\n",
       "      <td>205.70</td>\n",
       "      <td>117.11</td>\n",
       "      <td>1854591.20</td>\n",
       "      <td>1055863.76</td>\n",
       "      <td>798727.44</td>\n",
       "    </tr>\n",
       "    <tr>\n",
       "      <th>4</th>\n",
       "      <td>5</td>\n",
       "      <td>Asia</td>\n",
       "      <td>Sri Lanka</td>\n",
       "      <td>Snacks</td>\n",
       "      <td>Offline</td>\n",
       "      <td>C</td>\n",
       "      <td>7/20/2015</td>\n",
       "      <td>571902596</td>\n",
       "      <td>7/27/2015</td>\n",
       "      <td>7542</td>\n",
       "      <td>152.58</td>\n",
       "      <td>97.44</td>\n",
       "      <td>1150758.36</td>\n",
       "      <td>734892.48</td>\n",
       "      <td>415865.88</td>\n",
       "    </tr>\n",
       "  </tbody>\n",
       "</table>\n",
       "</div>"
      ],
      "text/plain": [
       "   ID                             Region               Country  Item_Type  \\\n",
       "0   1  Central America and the Caribbean  Antigua and Barbuda   Baby Food   \n",
       "1   2  Central America and the Caribbean                Panama     Snacks   \n",
       "2   3                             Europe        Czech Republic  Beverages   \n",
       "3   4                               Asia           North Korea     Cereal   \n",
       "4   5                               Asia             Sri Lanka     Snacks   \n",
       "\n",
       "  Sales_Channel Order_Priority  Order_Date   Order_ID  Ship_Date  Units_Sold  \\\n",
       "0        Online              M  12/20/2013  957081544  1/11/2014         552   \n",
       "1       Offline              C    7/5/2010  301644504  7/26/2010        2167   \n",
       "2       Offline              C   9/12/2011  478051030  9/29/2011        4778   \n",
       "3       Offline              L   5/13/2010  892599952  6/15/2010        9016   \n",
       "4       Offline              C   7/20/2015  571902596  7/27/2015        7542   \n",
       "\n",
       "   Unit_Price  Unit_Cost  Total_Revenue  Total_Cost  Total_Profit  \n",
       "0      255.28     159.42      140914.56    87999.84      52914.72  \n",
       "1      152.58      97.44      330640.86   211152.48     119488.38  \n",
       "2       47.45      31.79      226716.10   151892.62      74823.48  \n",
       "3      205.70     117.11     1854591.20  1055863.76     798727.44  \n",
       "4      152.58      97.44     1150758.36   734892.48     415865.88  "
      ]
     },
     "execution_count": 4,
     "metadata": {},
     "output_type": "execute_result"
    }
   ],
   "source": [
    "data = pd.read_csv(file_name)\n",
    "data.head()"
   ]
  },
  {
   "cell_type": "markdown",
   "id": "fd31806e",
   "metadata": {},
   "source": [
    "### Load to BigQuery"
   ]
  },
  {
   "cell_type": "code",
   "execution_count": 5,
   "id": "6ff11660",
   "metadata": {},
   "outputs": [],
   "source": [
    "from google.cloud import bigquery\n",
    "import os"
   ]
  },
  {
   "cell_type": "code",
   "execution_count": 6,
   "id": "982f03de",
   "metadata": {},
   "outputs": [],
   "source": [
    "os.environ[\"GOOGLE_APPLICATION_CREDENTIALS\"] = \"test7151991-8eba3fa62ea8.json\""
   ]
  },
  {
   "cell_type": "code",
   "execution_count": 7,
   "id": "d56ecfd7",
   "metadata": {},
   "outputs": [
    {
     "data": {
      "text/plain": [
       "<google.cloud.bigquery.client.Client at 0x22a3f7490d0>"
      ]
     },
     "execution_count": 7,
     "metadata": {},
     "output_type": "execute_result"
    }
   ],
   "source": [
    "client = bigquery.Client()\n",
    "client"
   ]
  },
  {
   "cell_type": "code",
   "execution_count": 8,
   "id": "a555962a",
   "metadata": {},
   "outputs": [
    {
     "data": {
      "text/plain": [
       "TableReference(DatasetReference('test7151991', 'clothing'), 'data')"
      ]
     },
     "execution_count": 8,
     "metadata": {},
     "output_type": "execute_result"
    }
   ],
   "source": [
    "tableRef = client.dataset(\"clothing\").table(\"data\")\n",
    "tableRef"
   ]
  },
  {
   "cell_type": "code",
   "execution_count": 11,
   "id": "f3986a9d",
   "metadata": {},
   "outputs": [
    {
     "data": {
      "text/plain": [
       "LoadJob<project=test7151991, location=US, id=8ce03922-c9d2-4d9e-8fa1-2d46051c3c68>"
      ]
     },
     "execution_count": 11,
     "metadata": {},
     "output_type": "execute_result"
    }
   ],
   "source": [
    "bigqueryJob = client.load_table_from_dataframe(data, tableRef)\n",
    "bigqueryJob.result()"
   ]
  },
  {
   "cell_type": "markdown",
   "id": "05ec528f",
   "metadata": {},
   "source": [
    "### Query BigQuery table"
   ]
  },
  {
   "cell_type": "code",
   "execution_count": 12,
   "id": "8cf6c3fe",
   "metadata": {},
   "outputs": [],
   "source": [
    "import bigframes.pandas as bpd"
   ]
  },
  {
   "cell_type": "code",
   "execution_count": 32,
   "id": "68712480",
   "metadata": {},
   "outputs": [],
   "source": [
    "# region count\n",
    "query_statement = \"\"\"              \n",
    "                    select region, count(*) cnt\n",
    "                    from test7151991.clothing.data\n",
    "                    group by region\n",
    "                    \"\"\""
   ]
  },
  {
   "cell_type": "code",
   "execution_count": 33,
   "id": "73a277f5",
   "metadata": {},
   "outputs": [
    {
     "data": {
      "text/html": [
       "Query job 8aaea928-5487-49a5-8a68-006fed68901e is DONE. 88.8 kB processed. <a target=\"_blank\" href=\"https://console.cloud.google.com/bigquery?project=test7151991&j=bq:US:8aaea928-5487-49a5-8a68-006fed68901e&page=queryresults\">Open Job</a>"
      ],
      "text/plain": [
       "<IPython.core.display.HTML object>"
      ]
     },
     "metadata": {},
     "output_type": "display_data"
    },
    {
     "data": {
      "text/html": [
       "Query job 6e65e8ac-f7e1-40d8-8c2c-0a12f806f2a3 is DONE. 0 Bytes processed. <a target=\"_blank\" href=\"https://console.cloud.google.com/bigquery?project=test7151991&j=bq:US:6e65e8ac-f7e1-40d8-8c2c-0a12f806f2a3&page=queryresults\">Open Job</a>"
      ],
      "text/plain": [
       "<IPython.core.display.HTML object>"
      ]
     },
     "metadata": {},
     "output_type": "display_data"
    },
    {
     "data": {
      "text/plain": [
       "(7, 2)"
      ]
     },
     "execution_count": 33,
     "metadata": {},
     "output_type": "execute_result"
    }
   ],
   "source": [
    "query = bpd.read_gbq(query_statement)\n",
    "query.shape"
   ]
  },
  {
   "cell_type": "code",
   "execution_count": 35,
   "id": "2a2ae765",
   "metadata": {},
   "outputs": [
    {
     "data": {
      "text/html": [
       "Query job 7d7991b4-9698-41d8-a038-9201365e04be is DONE. 0 Bytes processed. <a target=\"_blank\" href=\"https://console.cloud.google.com/bigquery?project=test7151991&j=bq:US:7d7991b4-9698-41d8-a038-9201365e04be&page=queryresults\">Open Job</a>"
      ],
      "text/plain": [
       "<IPython.core.display.HTML object>"
      ]
     },
     "metadata": {},
     "output_type": "display_data"
    },
    {
     "data": {
      "text/html": [
       "Query job 8e6b0f46-1fe6-4747-bc64-a93397780f11 is DONE. 193 Bytes processed. <a target=\"_blank\" href=\"https://console.cloud.google.com/bigquery?project=test7151991&j=bq:US:8e6b0f46-1fe6-4747-bc64-a93397780f11&page=queryresults\">Open Job</a>"
      ],
      "text/plain": [
       "<IPython.core.display.HTML object>"
      ]
     },
     "metadata": {},
     "output_type": "display_data"
    },
    {
     "data": {
      "text/html": [
       "<div>\n",
       "<style scoped>\n",
       "    .dataframe tbody tr th:only-of-type {\n",
       "        vertical-align: middle;\n",
       "    }\n",
       "\n",
       "    .dataframe tbody tr th {\n",
       "        vertical-align: top;\n",
       "    }\n",
       "\n",
       "    .dataframe thead th {\n",
       "        text-align: right;\n",
       "    }\n",
       "</style>\n",
       "<table border=\"1\" class=\"dataframe\">\n",
       "  <thead>\n",
       "    <tr style=\"text-align: right;\">\n",
       "      <th></th>\n",
       "      <th>region</th>\n",
       "      <th>cnt</th>\n",
       "    </tr>\n",
       "  </thead>\n",
       "  <tbody>\n",
       "    <tr>\n",
       "      <th>0</th>\n",
       "      <td>Europe</td>\n",
       "      <td>1330</td>\n",
       "    </tr>\n",
       "    <tr>\n",
       "      <th>2</th>\n",
       "      <td>Sub-Saharan Africa</td>\n",
       "      <td>1285</td>\n",
       "    </tr>\n",
       "    <tr>\n",
       "      <th>5</th>\n",
       "      <td>Asia</td>\n",
       "      <td>719</td>\n",
       "    </tr>\n",
       "    <tr>\n",
       "      <th>6</th>\n",
       "      <td>Middle East and North Africa</td>\n",
       "      <td>610</td>\n",
       "    </tr>\n",
       "    <tr>\n",
       "      <th>4</th>\n",
       "      <td>Central America and the Caribbean</td>\n",
       "      <td>534</td>\n",
       "    </tr>\n",
       "    <tr>\n",
       "      <th>3</th>\n",
       "      <td>Australia and Oceania</td>\n",
       "      <td>416</td>\n",
       "    </tr>\n",
       "    <tr>\n",
       "      <th>1</th>\n",
       "      <td>North America</td>\n",
       "      <td>106</td>\n",
       "    </tr>\n",
       "  </tbody>\n",
       "</table>\n",
       "<p>7 rows × 2 columns</p>\n",
       "</div>[7 rows x 2 columns in total]"
      ],
      "text/plain": [
       "                              region   cnt\n",
       "0                             Europe  1330\n",
       "2                 Sub-Saharan Africa  1285\n",
       "5                               Asia   719\n",
       "6       Middle East and North Africa   610\n",
       "4  Central America and the Caribbean   534\n",
       "3              Australia and Oceania   416\n",
       "1                      North America   106\n",
       "\n",
       "[7 rows x 2 columns]"
      ]
     },
     "execution_count": 35,
     "metadata": {},
     "output_type": "execute_result"
    }
   ],
   "source": [
    "query.sort_values(\"cnt\", ascending=False)"
   ]
  },
  {
   "cell_type": "code",
   "execution_count": null,
   "id": "a850e4b0",
   "metadata": {},
   "outputs": [],
   "source": []
  },
  {
   "cell_type": "code",
   "execution_count": null,
   "id": "6fc9d827",
   "metadata": {},
   "outputs": [],
   "source": []
  }
 ],
 "metadata": {
  "kernelspec": {
   "display_name": "Python 3",
   "language": "python",
   "name": "python3"
  },
  "language_info": {
   "codemirror_mode": {
    "name": "ipython",
    "version": 3
   },
   "file_extension": ".py",
   "mimetype": "text/x-python",
   "name": "python",
   "nbconvert_exporter": "python",
   "pygments_lexer": "ipython3",
   "version": "3.11.5"
  }
 },
 "nbformat": 4,
 "nbformat_minor": 5
}
