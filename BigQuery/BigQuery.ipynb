{
 "cells": [
  {
   "cell_type": "markdown",
   "id": "d708901c",
   "metadata": {},
   "source": [
    "## BigQuery Loading\n",
    "\n",
    "This program will load the Customer_Transactions data into a BigQuery project.\n",
    "\n",
    "- [Import modules](#1)\n",
    "- [Load data from local to BigQuery](#2)\n",
    "- [Load data from BigQuery](#3)"
   ]
  },
  {
   "cell_type": "markdown",
   "id": "06e938e2",
   "metadata": {},
   "source": [
    "### <a id=\"1\"></a>Import modules"
   ]
  },
  {
   "cell_type": "code",
   "execution_count": 1,
   "id": "367c812d",
   "metadata": {},
   "outputs": [],
   "source": [
    "# !pip install --upgrade google-cloud-bigquery\n",
    "from google.cloud import bigquery\n",
    "\n",
    "import os\n",
    "\n",
    "import pandas as pd"
   ]
  },
  {
   "cell_type": "code",
   "execution_count": 2,
   "id": "60cbdbbe",
   "metadata": {},
   "outputs": [],
   "source": [
    "os.environ[\"GOOGLE_APPLICATION_CREDENTIALS\"] = \"test.json\""
   ]
  },
  {
   "cell_type": "code",
   "execution_count": 3,
   "id": "fd817075",
   "metadata": {},
   "outputs": [
    {
     "data": {
      "text/plain": [
       "<google.cloud.bigquery.client.Client at 0x252d68e5b10>"
      ]
     },
     "execution_count": 3,
     "metadata": {},
     "output_type": "execute_result"
    }
   ],
   "source": [
    "client = bigquery.Client()\n",
    "client"
   ]
  },
  {
   "cell_type": "markdown",
   "id": "75140217",
   "metadata": {},
   "source": [
    "### _Testing Connection_"
   ]
  },
  {
   "cell_type": "code",
   "execution_count": 4,
   "id": "28b17efc",
   "metadata": {},
   "outputs": [
    {
     "data": {
      "text/plain": [
       "QueryJob<project=test7151991, location=US, id=5b591ef2-4b69-456e-ae8a-62f03c9ec574>"
      ]
     },
     "execution_count": 4,
     "metadata": {},
     "output_type": "execute_result"
    }
   ],
   "source": [
    "citibike_query = \"SELECT * FROM bigquery-public-data.new_york_citibike.citibike_trips LIMIT 5\"\n",
    "citibike_query_job = client.query(citibike_query)\n",
    "citibike_query_job"
   ]
  },
  {
   "cell_type": "code",
   "execution_count": 5,
   "id": "51b2fa56",
   "metadata": {
    "scrolled": false
   },
   "outputs": [
    {
     "name": "stdout",
     "output_type": "stream",
     "text": [
      "Row((None, None, None, None, '', None, None, None, '', None, None, None, '', None, '', ''), {'tripduration': 0, 'starttime': 1, 'stoptime': 2, 'start_station_id': 3, 'start_station_name': 4, 'start_station_latitude': 5, 'start_station_longitude': 6, 'end_station_id': 7, 'end_station_name': 8, 'end_station_latitude': 9, 'end_station_longitude': 10, 'bikeid': 11, 'usertype': 12, 'birth_year': 13, 'gender': 14, 'customer_plan': 15})\n",
      "\n",
      "Row((None, None, None, None, '', None, None, None, '', None, None, None, '', None, '', ''), {'tripduration': 0, 'starttime': 1, 'stoptime': 2, 'start_station_id': 3, 'start_station_name': 4, 'start_station_latitude': 5, 'start_station_longitude': 6, 'end_station_id': 7, 'end_station_name': 8, 'end_station_latitude': 9, 'end_station_longitude': 10, 'bikeid': 11, 'usertype': 12, 'birth_year': 13, 'gender': 14, 'customer_plan': 15})\n",
      "\n",
      "Row((None, None, None, None, '', None, None, None, '', None, None, None, '', None, '', ''), {'tripduration': 0, 'starttime': 1, 'stoptime': 2, 'start_station_id': 3, 'start_station_name': 4, 'start_station_latitude': 5, 'start_station_longitude': 6, 'end_station_id': 7, 'end_station_name': 8, 'end_station_latitude': 9, 'end_station_longitude': 10, 'bikeid': 11, 'usertype': 12, 'birth_year': 13, 'gender': 14, 'customer_plan': 15})\n",
      "\n",
      "Row((None, None, None, None, '', None, None, None, '', None, None, None, '', None, '', ''), {'tripduration': 0, 'starttime': 1, 'stoptime': 2, 'start_station_id': 3, 'start_station_name': 4, 'start_station_latitude': 5, 'start_station_longitude': 6, 'end_station_id': 7, 'end_station_name': 8, 'end_station_latitude': 9, 'end_station_longitude': 10, 'bikeid': 11, 'usertype': 12, 'birth_year': 13, 'gender': 14, 'customer_plan': 15})\n",
      "\n",
      "Row((None, None, None, None, '', None, None, None, '', None, None, None, '', None, '', ''), {'tripduration': 0, 'starttime': 1, 'stoptime': 2, 'start_station_id': 3, 'start_station_name': 4, 'start_station_latitude': 5, 'start_station_longitude': 6, 'end_station_id': 7, 'end_station_name': 8, 'end_station_latitude': 9, 'end_station_longitude': 10, 'bikeid': 11, 'usertype': 12, 'birth_year': 13, 'gender': 14, 'customer_plan': 15})\n",
      "\n"
     ]
    }
   ],
   "source": [
    "for row in citibike_query_job:\n",
    "    print(row)\n",
    "    print(\"\")"
   ]
  },
  {
   "cell_type": "markdown",
   "id": "2f067b9f",
   "metadata": {},
   "source": [
    "### <a id=\"2\"></a>Load data from local to BigQuery"
   ]
  },
  {
   "cell_type": "code",
   "execution_count": 6,
   "id": "082ac9a6",
   "metadata": {},
   "outputs": [],
   "source": [
    "# Directory for the project\n",
    "mainDir = \"folderPath\"\n",
    "loadedDataPath = mainDir + \"Loaded_Data/\""
   ]
  },
  {
   "cell_type": "code",
   "execution_count": 7,
   "id": "c3aa8856",
   "metadata": {},
   "outputs": [
    {
     "data": {
      "text/plain": [
       "['Customers.csv',\n",
       " 'Customer_Transactions.xlsx',\n",
       " 'payload_files_directory.csv',\n",
       " 'Transactions.csv']"
      ]
     },
     "execution_count": 7,
     "metadata": {},
     "output_type": "execute_result"
    }
   ],
   "source": [
    "# List of files in loadedDataPath\n",
    "os.listdir(loadedDataPath)"
   ]
  },
  {
   "cell_type": "code",
   "execution_count": 8,
   "id": "01fff103",
   "metadata": {},
   "outputs": [
    {
     "data": {
      "text/plain": [
       "(536885, 15)"
      ]
     },
     "execution_count": 8,
     "metadata": {},
     "output_type": "execute_result"
    }
   ],
   "source": [
    "# Loading the joined Customer Transactions table\n",
    "Customer_Transactions = pd.read_excel(loadedDataPath + \"Customer_Transactions.xlsx\")\n",
    "Customer_Transactions.shape"
   ]
  },
  {
   "cell_type": "code",
   "execution_count": 13,
   "id": "97c7b9b3",
   "metadata": {},
   "outputs": [
    {
     "data": {
      "text/plain": [
       "TableReference(DatasetReference('test7151991', 'Customer_Transactions'), 'Customer_Transactions')"
      ]
     },
     "execution_count": 13,
     "metadata": {},
     "output_type": "execute_result"
    }
   ],
   "source": [
    "tableRef = client.dataset(\"Customer_Transactions\").table(\"Customer_Transactions\")\n",
    "tableRef"
   ]
  },
  {
   "cell_type": "code",
   "execution_count": 14,
   "id": "e37f1b81",
   "metadata": {
    "scrolled": true
   },
   "outputs": [
    {
     "data": {
      "text/plain": [
       "LoadJob<project=test7151991, location=US, id=98e3fb74-42be-41d5-9ed7-b2478ef0912e>"
      ]
     },
     "execution_count": 14,
     "metadata": {},
     "output_type": "execute_result"
    }
   ],
   "source": [
    "bigqueryJob = client.load_table_from_dataframe(Customer_Transactions, tableRef)\n",
    "bigqueryJob.result()"
   ]
  },
  {
   "cell_type": "markdown",
   "id": "39e044fc",
   "metadata": {},
   "source": [
    "### <a id=\"3\"></a>Load data from BigQuery"
   ]
  },
  {
   "cell_type": "code",
   "execution_count": 28,
   "id": "5ed9da2d",
   "metadata": {},
   "outputs": [],
   "source": [
    "# !pip install bigframes\n",
    "import bigframes.pandas as bpd"
   ]
  },
  {
   "cell_type": "code",
   "execution_count": 54,
   "id": "ac9dca72",
   "metadata": {},
   "outputs": [],
   "source": [
    "# Query for average price by Department, Category, SKU\n",
    "CT_priceAvg_query = \"\"\"\n",
    "                    SELECT Department, Category, SKU, COUNT(SKU) AS , AVG(Price) AS Avg_Price\n",
    "                    FROM test7151991.Customer_Transactions.Customer_Transactions\n",
    "                    GROUP BY Department, Category, SKU\n",
    "                    \"\"\""
   ]
  },
  {
   "cell_type": "code",
   "execution_count": 55,
   "id": "06140180",
   "metadata": {
    "scrolled": true
   },
   "outputs": [
    {
     "data": {
      "text/html": [
       "Query job fb571b95-504f-4554-8e51-e11733dc684a is DONE. 18.0 MB processed. <a target=\"_blank\" href=\"https://console.cloud.google.com/bigquery?project=test7151991&j=bq:US:fb571b95-504f-4554-8e51-e11733dc684a&page=queryresults\">Open Job</a>"
      ],
      "text/plain": [
       "<IPython.core.display.HTML object>"
      ]
     },
     "metadata": {},
     "output_type": "display_data"
    },
    {
     "data": {
      "text/html": [
       "Query job 34d89fed-0e61-444d-8e3f-8bd2b43b2d1e is DONE. 0 Bytes processed. <a target=\"_blank\" href=\"https://console.cloud.google.com/bigquery?project=test7151991&j=bq:US:34d89fed-0e61-444d-8e3f-8bd2b43b2d1e&page=queryresults\">Open Job</a>"
      ],
      "text/plain": [
       "<IPython.core.display.HTML object>"
      ]
     },
     "metadata": {},
     "output_type": "display_data"
    },
    {
     "data": {
      "text/plain": [
       "(39, 5)"
      ]
     },
     "execution_count": 55,
     "metadata": {},
     "output_type": "execute_result"
    }
   ],
   "source": [
    "# Load data from BigQuery\n",
    "CT_priceAvg = bpd.read_gbq(CT_priceAvg_query)\n",
    "CT_priceAvg.shape"
   ]
  },
  {
   "cell_type": "code",
   "execution_count": 56,
   "id": "8f58fe0c",
   "metadata": {
    "scrolled": false
   },
   "outputs": [
    {
     "data": {
      "text/html": [
       "Query job 5ff485db-dfff-46fb-97cd-1b3cdc09b724 is DONE. 1.6 kB processed. <a target=\"_blank\" href=\"https://console.cloud.google.com/bigquery?project=test7151991&j=bq:US:5ff485db-dfff-46fb-97cd-1b3cdc09b724&page=queryresults\">Open Job</a>"
      ],
      "text/plain": [
       "<IPython.core.display.HTML object>"
      ]
     },
     "metadata": {},
     "output_type": "display_data"
    },
    {
     "data": {
      "text/html": [
       "<div>\n",
       "<style scoped>\n",
       "    .dataframe tbody tr th:only-of-type {\n",
       "        vertical-align: middle;\n",
       "    }\n",
       "\n",
       "    .dataframe tbody tr th {\n",
       "        vertical-align: top;\n",
       "    }\n",
       "\n",
       "    .dataframe thead th {\n",
       "        text-align: right;\n",
       "    }\n",
       "</style>\n",
       "<table border=\"1\" class=\"dataframe\">\n",
       "  <thead>\n",
       "    <tr style=\"text-align: right;\">\n",
       "      <th></th>\n",
       "      <th>Department</th>\n",
       "      <th>Category</th>\n",
       "      <th>SKU</th>\n",
       "      <th>SKU_Cnt</th>\n",
       "      <th>Price_Avg</th>\n",
       "    </tr>\n",
       "  </thead>\n",
       "  <tbody>\n",
       "    <tr>\n",
       "      <th>0</th>\n",
       "      <td>Men</td>\n",
       "      <td>Bottoms</td>\n",
       "      <td>Suit Trousers</td>\n",
       "      <td>5128</td>\n",
       "      <td>55.77</td>\n",
       "    </tr>\n",
       "    <tr>\n",
       "      <th>1</th>\n",
       "      <td>Men</td>\n",
       "      <td>Bottoms</td>\n",
       "      <td>Cargo Pants</td>\n",
       "      <td>9276</td>\n",
       "      <td>50.77</td>\n",
       "    </tr>\n",
       "    <tr>\n",
       "      <th>2</th>\n",
       "      <td>Men</td>\n",
       "      <td>Bottoms</td>\n",
       "      <td>Dress Pants</td>\n",
       "      <td>9305</td>\n",
       "      <td>45.77</td>\n",
       "    </tr>\n",
       "    <tr>\n",
       "      <th>3</th>\n",
       "      <td>Women</td>\n",
       "      <td>Bottoms</td>\n",
       "      <td>Palazzo Pants</td>\n",
       "      <td>9398</td>\n",
       "      <td>41.77</td>\n",
       "    </tr>\n",
       "    <tr>\n",
       "      <th>4</th>\n",
       "      <td>Men</td>\n",
       "      <td>Shirts</td>\n",
       "      <td>Henley Shirt</td>\n",
       "      <td>8387</td>\n",
       "      <td>41.77</td>\n",
       "    </tr>\n",
       "    <tr>\n",
       "      <th>5</th>\n",
       "      <td>Women</td>\n",
       "      <td>Tops</td>\n",
       "      <td>Hoodie</td>\n",
       "      <td>18960</td>\n",
       "      <td>40.77</td>\n",
       "    </tr>\n",
       "    <tr>\n",
       "      <th>6</th>\n",
       "      <td>Men</td>\n",
       "      <td>Bottoms</td>\n",
       "      <td>Chinos</td>\n",
       "      <td>27194</td>\n",
       "      <td>39.77</td>\n",
       "    </tr>\n",
       "    <tr>\n",
       "      <th>7</th>\n",
       "      <td>Men</td>\n",
       "      <td>Shirts</td>\n",
       "      <td>Button-Down Shirt</td>\n",
       "      <td>15324</td>\n",
       "      <td>38.77</td>\n",
       "    </tr>\n",
       "    <tr>\n",
       "      <th>8</th>\n",
       "      <td>Men</td>\n",
       "      <td>Bottoms</td>\n",
       "      <td>Corduroy Pants</td>\n",
       "      <td>9507</td>\n",
       "      <td>38.77</td>\n",
       "    </tr>\n",
       "    <tr>\n",
       "      <th>9</th>\n",
       "      <td>Women</td>\n",
       "      <td>Bottoms</td>\n",
       "      <td>Wide-Leg Pants</td>\n",
       "      <td>22151</td>\n",
       "      <td>37.77</td>\n",
       "    </tr>\n",
       "    <tr>\n",
       "      <th>10</th>\n",
       "      <td>Women</td>\n",
       "      <td>Bottoms</td>\n",
       "      <td>Culottes</td>\n",
       "      <td>13914</td>\n",
       "      <td>35.77</td>\n",
       "    </tr>\n",
       "    <tr>\n",
       "      <th>11</th>\n",
       "      <td>Men</td>\n",
       "      <td>Shirts</td>\n",
       "      <td>Flannel Shirt</td>\n",
       "      <td>14229</td>\n",
       "      <td>35.77</td>\n",
       "    </tr>\n",
       "    <tr>\n",
       "      <th>12</th>\n",
       "      <td>Women</td>\n",
       "      <td>Bottoms</td>\n",
       "      <td>Skirt</td>\n",
       "      <td>13717</td>\n",
       "      <td>34.77</td>\n",
       "    </tr>\n",
       "    <tr>\n",
       "      <th>13</th>\n",
       "      <td>Women</td>\n",
       "      <td>Tops</td>\n",
       "      <td>Sweater</td>\n",
       "      <td>18963</td>\n",
       "      <td>34.77</td>\n",
       "    </tr>\n",
       "    <tr>\n",
       "      <th>14</th>\n",
       "      <td>Men</td>\n",
       "      <td>Shirts</td>\n",
       "      <td>Long-Sleeve Shirt</td>\n",
       "      <td>14033</td>\n",
       "      <td>33.77</td>\n",
       "    </tr>\n",
       "    <tr>\n",
       "      <th>15</th>\n",
       "      <td>Men</td>\n",
       "      <td>Bottoms</td>\n",
       "      <td>Joggers</td>\n",
       "      <td>27079</td>\n",
       "      <td>33.77</td>\n",
       "    </tr>\n",
       "    <tr>\n",
       "      <th>16</th>\n",
       "      <td>Men</td>\n",
       "      <td>Shirts</td>\n",
       "      <td>Dress Shirt</td>\n",
       "      <td>5961</td>\n",
       "      <td>32.77</td>\n",
       "    </tr>\n",
       "    <tr>\n",
       "      <th>17</th>\n",
       "      <td>Women</td>\n",
       "      <td>Bottoms</td>\n",
       "      <td>Jeggings</td>\n",
       "      <td>22260</td>\n",
       "      <td>31.77</td>\n",
       "    </tr>\n",
       "    <tr>\n",
       "      <th>18</th>\n",
       "      <td>Men</td>\n",
       "      <td>Shirts</td>\n",
       "      <td>V-Neck Shirt</td>\n",
       "      <td>15359</td>\n",
       "      <td>30.77</td>\n",
       "    </tr>\n",
       "    <tr>\n",
       "      <th>19</th>\n",
       "      <td>Women</td>\n",
       "      <td>Tops</td>\n",
       "      <td>Wrap Shirt</td>\n",
       "      <td>10849</td>\n",
       "      <td>30.77</td>\n",
       "    </tr>\n",
       "    <tr>\n",
       "      <th>20</th>\n",
       "      <td>Men</td>\n",
       "      <td>Shirts</td>\n",
       "      <td>Hawaiian Shirt</td>\n",
       "      <td>6339</td>\n",
       "      <td>29.77</td>\n",
       "    </tr>\n",
       "    <tr>\n",
       "      <th>21</th>\n",
       "      <td>Women</td>\n",
       "      <td>Tops</td>\n",
       "      <td>Tunic</td>\n",
       "      <td>16201</td>\n",
       "      <td>29.77</td>\n",
       "    </tr>\n",
       "    <tr>\n",
       "      <th>22</th>\n",
       "      <td>Women</td>\n",
       "      <td>Bottoms</td>\n",
       "      <td>Jeans</td>\n",
       "      <td>22108</td>\n",
       "      <td>29.77</td>\n",
       "    </tr>\n",
       "    <tr>\n",
       "      <th>23</th>\n",
       "      <td>Women</td>\n",
       "      <td>Bottoms</td>\n",
       "      <td>Leggings</td>\n",
       "      <td>22140</td>\n",
       "      <td>28.77</td>\n",
       "    </tr>\n",
       "    <tr>\n",
       "      <th>24</th>\n",
       "      <td>Men</td>\n",
       "      <td>Bottoms</td>\n",
       "      <td>Jeans</td>\n",
       "      <td>26930</td>\n",
       "      <td>28.77</td>\n",
       "    </tr>\n",
       "    <tr>\n",
       "      <th>25</th>\n",
       "      <td>Men</td>\n",
       "      <td>Bottoms</td>\n",
       "      <td>Cargo Shorts</td>\n",
       "      <td>6285</td>\n",
       "      <td>27.77</td>\n",
       "    </tr>\n",
       "    <tr>\n",
       "      <th>26</th>\n",
       "      <td>Women</td>\n",
       "      <td>Tops</td>\n",
       "      <td>Peplum Top</td>\n",
       "      <td>11385</td>\n",
       "      <td>27.77</td>\n",
       "    </tr>\n",
       "    <tr>\n",
       "      <th>27</th>\n",
       "      <td>Men</td>\n",
       "      <td>Shirts</td>\n",
       "      <td>Polo Shirt</td>\n",
       "      <td>15619</td>\n",
       "      <td>27.77</td>\n",
       "    </tr>\n",
       "    <tr>\n",
       "      <th>28</th>\n",
       "      <td>Women</td>\n",
       "      <td>Tops</td>\n",
       "      <td>Off-Shoulder Top</td>\n",
       "      <td>11303</td>\n",
       "      <td>26.77</td>\n",
       "    </tr>\n",
       "    <tr>\n",
       "      <th>29</th>\n",
       "      <td>Men</td>\n",
       "      <td>Bottoms</td>\n",
       "      <td>Bermuda Shorts</td>\n",
       "      <td>6333</td>\n",
       "      <td>25.77</td>\n",
       "    </tr>\n",
       "    <tr>\n",
       "      <th>30</th>\n",
       "      <td>Women</td>\n",
       "      <td>Bottoms</td>\n",
       "      <td>Capris</td>\n",
       "      <td>9423</td>\n",
       "      <td>24.77</td>\n",
       "    </tr>\n",
       "    <tr>\n",
       "      <th>31</th>\n",
       "      <td>Men</td>\n",
       "      <td>Shirts</td>\n",
       "      <td>T-Shirt</td>\n",
       "      <td>6515</td>\n",
       "      <td>24.77</td>\n",
       "    </tr>\n",
       "    <tr>\n",
       "      <th>32</th>\n",
       "      <td>Men</td>\n",
       "      <td>Bottoms</td>\n",
       "      <td>Shorts</td>\n",
       "      <td>6436</td>\n",
       "      <td>22.77</td>\n",
       "    </tr>\n",
       "    <tr>\n",
       "      <th>33</th>\n",
       "      <td>Men</td>\n",
       "      <td>Shirts</td>\n",
       "      <td>Crew Neck Shirt</td>\n",
       "      <td>29770</td>\n",
       "      <td>22.77</td>\n",
       "    </tr>\n",
       "    <tr>\n",
       "      <th>34</th>\n",
       "      <td>Women</td>\n",
       "      <td>Bottoms</td>\n",
       "      <td>Shorts</td>\n",
       "      <td>4416</td>\n",
       "      <td>21.77</td>\n",
       "    </tr>\n",
       "    <tr>\n",
       "      <th>35</th>\n",
       "      <td>Women</td>\n",
       "      <td>Tops</td>\n",
       "      <td>Crop Top</td>\n",
       "      <td>11418</td>\n",
       "      <td>20.77</td>\n",
       "    </tr>\n",
       "    <tr>\n",
       "      <th>36</th>\n",
       "      <td>Women</td>\n",
       "      <td>Tops</td>\n",
       "      <td>Blouse</td>\n",
       "      <td>16350</td>\n",
       "      <td>18.77</td>\n",
       "    </tr>\n",
       "    <tr>\n",
       "      <th>37</th>\n",
       "      <td>Women</td>\n",
       "      <td>Tops</td>\n",
       "      <td>Camisole</td>\n",
       "      <td>11373</td>\n",
       "      <td>17.77</td>\n",
       "    </tr>\n",
       "    <tr>\n",
       "      <th>38</th>\n",
       "      <td>Women</td>\n",
       "      <td>Tops</td>\n",
       "      <td>Tank Top</td>\n",
       "      <td>5547</td>\n",
       "      <td>15.77</td>\n",
       "    </tr>\n",
       "  </tbody>\n",
       "</table>\n",
       "</div>"
      ],
      "text/plain": [
       "   Department Category                SKU SKU_Cnt Price_Avg\n",
       "0         Men  Bottoms      Suit Trousers    5128     55.77\n",
       "1         Men  Bottoms        Cargo Pants    9276     50.77\n",
       "2         Men  Bottoms        Dress Pants    9305     45.77\n",
       "3       Women  Bottoms      Palazzo Pants    9398     41.77\n",
       "4         Men   Shirts       Henley Shirt    8387     41.77\n",
       "5       Women     Tops             Hoodie   18960     40.77\n",
       "6         Men  Bottoms             Chinos   27194     39.77\n",
       "7         Men   Shirts  Button-Down Shirt   15324     38.77\n",
       "8         Men  Bottoms     Corduroy Pants    9507     38.77\n",
       "9       Women  Bottoms     Wide-Leg Pants   22151     37.77\n",
       "10      Women  Bottoms           Culottes   13914     35.77\n",
       "11        Men   Shirts      Flannel Shirt   14229     35.77\n",
       "12      Women  Bottoms              Skirt   13717     34.77\n",
       "13      Women     Tops            Sweater   18963     34.77\n",
       "14        Men   Shirts  Long-Sleeve Shirt   14033     33.77\n",
       "15        Men  Bottoms            Joggers   27079     33.77\n",
       "16        Men   Shirts        Dress Shirt    5961     32.77\n",
       "17      Women  Bottoms           Jeggings   22260     31.77\n",
       "18        Men   Shirts       V-Neck Shirt   15359     30.77\n",
       "19      Women     Tops         Wrap Shirt   10849     30.77\n",
       "20        Men   Shirts     Hawaiian Shirt    6339     29.77\n",
       "21      Women     Tops              Tunic   16201     29.77\n",
       "22      Women  Bottoms              Jeans   22108     29.77\n",
       "23      Women  Bottoms           Leggings   22140     28.77\n",
       "24        Men  Bottoms              Jeans   26930     28.77\n",
       "25        Men  Bottoms       Cargo Shorts    6285     27.77\n",
       "26      Women     Tops         Peplum Top   11385     27.77\n",
       "27        Men   Shirts         Polo Shirt   15619     27.77\n",
       "28      Women     Tops   Off-Shoulder Top   11303     26.77\n",
       "29        Men  Bottoms     Bermuda Shorts    6333     25.77\n",
       "30      Women  Bottoms             Capris    9423     24.77\n",
       "31        Men   Shirts            T-Shirt    6515     24.77\n",
       "32        Men  Bottoms             Shorts    6436     22.77\n",
       "33        Men   Shirts    Crew Neck Shirt   29770     22.77\n",
       "34      Women  Bottoms             Shorts    4416     21.77\n",
       "35      Women     Tops           Crop Top   11418     20.77\n",
       "36      Women     Tops             Blouse   16350     18.77\n",
       "37      Women     Tops           Camisole   11373     17.77\n",
       "38      Women     Tops           Tank Top    5547     15.77"
      ]
     },
     "execution_count": 56,
     "metadata": {},
     "output_type": "execute_result"
    }
   ],
   "source": [
    "CT_priceAvg_df = pd.DataFrame(CT_priceAvg.sort_values(\"Price_Avg\", ascending=False))\n",
    "CT_priceAvg_df.columns = CT_priceAvg.columns\n",
    "CT_priceAvg_df"
   ]
  },
  {
   "cell_type": "code",
   "execution_count": 31,
   "id": "ef52c930",
   "metadata": {},
   "outputs": [],
   "source": [
    "# Query to count discounted transactions\n",
    "CT_discountTransactions_query = \"\"\"\n",
    "                                SELECT COUNT(Transaction_ID) AS Transactions_w_Discounts\n",
    "                                FROM test7151991.Customer_Transactions.Customer_Transactions\n",
    "                                WHERE Discount IS NOT NULL;\n",
    "                                \"\"\""
   ]
  },
  {
   "cell_type": "code",
   "execution_count": 32,
   "id": "deb849d6",
   "metadata": {},
   "outputs": [
    {
     "data": {
      "text/html": [
       "Query job 0508a3fa-9b2a-4421-b6b9-43913b29cc6c is DONE. 4.5 MB processed. <a target=\"_blank\" href=\"https://console.cloud.google.com/bigquery?project=test7151991&j=bq:US:0508a3fa-9b2a-4421-b6b9-43913b29cc6c&page=queryresults\">Open Job</a>"
      ],
      "text/plain": [
       "<IPython.core.display.HTML object>"
      ]
     },
     "metadata": {},
     "output_type": "display_data"
    },
    {
     "data": {
      "text/html": [
       "Query job ae07d349-a1f7-4c26-bd72-92c67b313c66 is DONE. 0 Bytes processed. <a target=\"_blank\" href=\"https://console.cloud.google.com/bigquery?project=test7151991&j=bq:US:ae07d349-a1f7-4c26-bd72-92c67b313c66&page=queryresults\">Open Job</a>"
      ],
      "text/plain": [
       "<IPython.core.display.HTML object>"
      ]
     },
     "metadata": {},
     "output_type": "display_data"
    },
    {
     "data": {
      "text/html": [
       "Query job ad013442-ac57-4259-b262-100b1eece607 is DONE. 8 Bytes processed. <a target=\"_blank\" href=\"https://console.cloud.google.com/bigquery?project=test7151991&j=bq:US:ad013442-ac57-4259-b262-100b1eece607&page=queryresults\">Open Job</a>"
      ],
      "text/plain": [
       "<IPython.core.display.HTML object>"
      ]
     },
     "metadata": {},
     "output_type": "display_data"
    },
    {
     "data": {
      "text/html": [
       "<div>\n",
       "<style scoped>\n",
       "    .dataframe tbody tr th:only-of-type {\n",
       "        vertical-align: middle;\n",
       "    }\n",
       "\n",
       "    .dataframe tbody tr th {\n",
       "        vertical-align: top;\n",
       "    }\n",
       "\n",
       "    .dataframe thead th {\n",
       "        text-align: right;\n",
       "    }\n",
       "</style>\n",
       "<table border=\"1\" class=\"dataframe\">\n",
       "  <thead>\n",
       "    <tr style=\"text-align: right;\">\n",
       "      <th></th>\n",
       "      <th>Transactions_w_Discounts</th>\n",
       "    </tr>\n",
       "  </thead>\n",
       "  <tbody>\n",
       "    <tr>\n",
       "      <th>0</th>\n",
       "      <td>22705</td>\n",
       "    </tr>\n",
       "  </tbody>\n",
       "</table>\n",
       "<p>1 rows × 1 columns</p>\n",
       "</div>[1 rows x 1 columns in total]"
      ],
      "text/plain": [
       "   Transactions_w_Discounts\n",
       "0                     22705\n",
       "\n",
       "[1 rows x 1 columns]"
      ]
     },
     "execution_count": 32,
     "metadata": {},
     "output_type": "execute_result"
    }
   ],
   "source": [
    "# Load data from BigQuery\n",
    "CT_discountTransactions = bpd.read_gbq(CT_discountTransactions_query)\n",
    "CT_discountTransactions"
   ]
  },
  {
   "cell_type": "code",
   "execution_count": 59,
   "id": "5622ae93",
   "metadata": {},
   "outputs": [],
   "source": [
    "# Query to get total transactions and total prices for each year\n",
    "CT_yearlyTransactionsPrices_query = \"\"\"\n",
    "                              SELECT EXTRACT(YEAR FROM DATE(Date)) AS Year, \n",
    "                              COUNT(Transaction_ID) AS Total_Transactions,\n",
    "                              ROUND(SUM(Price),0) AS Total_Prices\n",
    "                              FROM test7151991.Customer_Transactions.Customer_Transactions\n",
    "                              GROUP BY Year;\n",
    "                              \"\"\""
   ]
  },
  {
   "cell_type": "code",
   "execution_count": 63,
   "id": "408a8c6c",
   "metadata": {},
   "outputs": [
    {
     "data": {
      "text/html": [
       "Query job d96acfdd-6ada-4272-9d0e-b79075c84160 is DONE. 15.0 MB processed. <a target=\"_blank\" href=\"https://console.cloud.google.com/bigquery?project=test7151991&j=bq:US:d96acfdd-6ada-4272-9d0e-b79075c84160&page=queryresults\">Open Job</a>"
      ],
      "text/plain": [
       "<IPython.core.display.HTML object>"
      ]
     },
     "metadata": {},
     "output_type": "display_data"
    },
    {
     "data": {
      "text/html": [
       "Query job c0a3c2be-8e7a-42c6-b889-d5ad2dbd4339 is DONE. 0 Bytes processed. <a target=\"_blank\" href=\"https://console.cloud.google.com/bigquery?project=test7151991&j=bq:US:c0a3c2be-8e7a-42c6-b889-d5ad2dbd4339&page=queryresults\">Open Job</a>"
      ],
      "text/plain": [
       "<IPython.core.display.HTML object>"
      ]
     },
     "metadata": {},
     "output_type": "display_data"
    },
    {
     "data": {
      "text/plain": [
       "(5, 3)"
      ]
     },
     "execution_count": 63,
     "metadata": {},
     "output_type": "execute_result"
    }
   ],
   "source": [
    "# Load data from BigQuery\n",
    "CT_yearlyTransactionsPrices = bpd.read_gbq(CT_yearlyTransactionsPrices_query)\n",
    "CT_yearlyTransactionsPrices.shape"
   ]
  },
  {
   "cell_type": "code",
   "execution_count": 62,
   "id": "54b8d062",
   "metadata": {},
   "outputs": [
    {
     "data": {
      "text/html": [
       "Query job 5c08eaad-f550-4633-a819-36101cd93b7a is DONE. 120 Bytes processed. <a target=\"_blank\" href=\"https://console.cloud.google.com/bigquery?project=test7151991&j=bq:US:5c08eaad-f550-4633-a819-36101cd93b7a&page=queryresults\">Open Job</a>"
      ],
      "text/plain": [
       "<IPython.core.display.HTML object>"
      ]
     },
     "metadata": {},
     "output_type": "display_data"
    },
    {
     "data": {
      "text/html": [
       "<div>\n",
       "<style scoped>\n",
       "    .dataframe tbody tr th:only-of-type {\n",
       "        vertical-align: middle;\n",
       "    }\n",
       "\n",
       "    .dataframe tbody tr th {\n",
       "        vertical-align: top;\n",
       "    }\n",
       "\n",
       "    .dataframe thead th {\n",
       "        text-align: right;\n",
       "    }\n",
       "</style>\n",
       "<table border=\"1\" class=\"dataframe\">\n",
       "  <thead>\n",
       "    <tr style=\"text-align: right;\">\n",
       "      <th></th>\n",
       "      <th>Year</th>\n",
       "      <th>Total_Transactions</th>\n",
       "      <th>Total_Prices</th>\n",
       "    </tr>\n",
       "  </thead>\n",
       "  <tbody>\n",
       "    <tr>\n",
       "      <th>0</th>\n",
       "      <td>2022</td>\n",
       "      <td>299034</td>\n",
       "      <td>9573574.0</td>\n",
       "    </tr>\n",
       "    <tr>\n",
       "      <th>1</th>\n",
       "      <td>2023</td>\n",
       "      <td>237400</td>\n",
       "      <td>7512252.0</td>\n",
       "    </tr>\n",
       "    <tr>\n",
       "      <th>2</th>\n",
       "      <td>2024</td>\n",
       "      <td>222</td>\n",
       "      <td>7102.0</td>\n",
       "    </tr>\n",
       "    <tr>\n",
       "      <th>3</th>\n",
       "      <td>2025</td>\n",
       "      <td>210</td>\n",
       "      <td>6423.0</td>\n",
       "    </tr>\n",
       "    <tr>\n",
       "      <th>4</th>\n",
       "      <td>2026</td>\n",
       "      <td>19</td>\n",
       "      <td>549.0</td>\n",
       "    </tr>\n",
       "  </tbody>\n",
       "</table>\n",
       "</div>"
      ],
      "text/plain": [
       "   Year Total_Transactions Total_Prices\n",
       "0  2022             299034    9573574.0\n",
       "1  2023             237400    7512252.0\n",
       "2  2024                222       7102.0\n",
       "3  2025                210       6423.0\n",
       "4  2026                 19        549.0"
      ]
     },
     "execution_count": 62,
     "metadata": {},
     "output_type": "execute_result"
    }
   ],
   "source": [
    "CT_yearlyTransactionsPrices_df = pd.DataFrame(CT_yearlyTransactionsPrices.sort_values(\"Year\", ascending=True))\n",
    "CT_yearlyTransactionsPrices_df.columns = CT_yearlyTransactionsPrices.columns\n",
    "CT_yearlyTransactionsPrices_df"
   ]
  },
  {
   "cell_type": "markdown",
   "id": "d32b0a61",
   "metadata": {},
   "source": [
    "## BigQuery Loading Completed."
   ]
  }
 ],
 "metadata": {
  "kernelspec": {
   "display_name": "Python 3 (ipykernel)",
   "language": "python",
   "name": "python3"
  },
  "language_info": {
   "codemirror_mode": {
    "name": "ipython",
    "version": 3
   },
   "file_extension": ".py",
   "mimetype": "text/x-python",
   "name": "python",
   "nbconvert_exporter": "python",
   "pygments_lexer": "ipython3",
   "version": "3.11.5"
  }
 },
 "nbformat": 4,
 "nbformat_minor": 5
}
